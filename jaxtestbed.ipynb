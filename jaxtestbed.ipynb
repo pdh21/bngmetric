{
 "cells": [
  {
   "cell_type": "code",
   "execution_count": 15,
   "id": "6cecf8e1",
   "metadata": {},
   "outputs": [],
   "source": [
    "import jax.numpy as jnp\n",
    "import numpy as np"
   ]
  },
  {
   "cell_type": "code",
   "execution_count": 2,
   "id": "857f51cb",
   "metadata": {},
   "outputs": [],
   "source": [
    "x=jnp.array([1, 2, 3])"
   ]
  },
  {
   "cell_type": "markdown",
   "id": "2b235074",
   "metadata": {},
   "source": [
    "# Just In Time Compilation\n"
   ]
  },
  {
   "cell_type": "code",
   "execution_count": 12,
   "id": "9068088d",
   "metadata": {},
   "outputs": [],
   "source": [
    "def norm(x):\n",
    "    x=x-x.mean(0)\n",
    "    return x/x.std(0)"
   ]
  },
  {
   "cell_type": "code",
   "execution_count": 13,
   "id": "0a79cb39",
   "metadata": {},
   "outputs": [],
   "source": [
    "from jax import jit\n",
    "norm_jit = jit(norm)"
   ]
  },
  {
   "cell_type": "code",
   "execution_count": 17,
   "id": "217b0e1c",
   "metadata": {},
   "outputs": [
    {
     "data": {
      "text/plain": [
       "True"
      ]
     },
     "execution_count": 17,
     "metadata": {},
     "output_type": "execute_result"
    }
   ],
   "source": [
    "np.random.seed(0)\n",
    "X=jnp.array(np.random.randn(100, 10))\n",
    "np.allclose(norm(x), norm_jit(x))  # Check if the JIT compiled function gives the same result"
   ]
  },
  {
   "cell_type": "code",
   "execution_count": 18,
   "id": "0cab1d5e",
   "metadata": {},
   "outputs": [
    {
     "name": "stdout",
     "output_type": "stream",
     "text": [
      "27.9 μs ± 146 ns per loop (mean ± std. dev. of 7 runs, 10,000 loops each)\n",
      "5.99 μs ± 11.4 ns per loop (mean ± std. dev. of 7 runs, 100,000 loops each)\n"
     ]
    }
   ],
   "source": [
    "%timeit norm(x).block_until_ready()\n",
    "%timeit norm_jit(x).block_until_ready()"
   ]
  },
  {
   "cell_type": "code",
   "execution_count": 19,
   "id": "e7bc02f3",
   "metadata": {},
   "outputs": [
    {
     "name": "stdout",
     "output_type": "stream",
     "text": [
      "running f():\n",
      " JitTracer<float32[3,4]>\n",
      " JitTracer<float32[4]>\n",
      " result = JitTracer<float32[3]>\n"
     ]
    },
    {
     "data": {
      "text/plain": [
       "Array([6.8819385, 4.7532573, 4.52822  ], dtype=float32)"
      ]
     },
     "execution_count": 19,
     "metadata": {},
     "output_type": "execute_result"
    }
   ],
   "source": [
    "@jit\n",
    "def f(x,y):\n",
    "    print(\"running f():\")\n",
    "    print(f\" {x}\")\n",
    "    print(f\" {y}\")\n",
    "    result = jnp.dot(x+1,y+1)\n",
    "    print(f\" {result = }\")\n",
    "    return result\n",
    "\n",
    "x=np.random.randn(3,4)\n",
    "y=np.random.randn(4)\n",
    "f(x,y)"
   ]
  },
  {
   "cell_type": "code",
   "execution_count": 20,
   "id": "94a9e731",
   "metadata": {},
   "outputs": [
    {
     "data": {
      "text/plain": [
       "Array([3.8131344, 5.1187015, 5.7350388], dtype=float32)"
      ]
     },
     "execution_count": 20,
     "metadata": {},
     "output_type": "execute_result"
    }
   ],
   "source": [
    "x2=np.random.randn(3,4)\n",
    "y2=np.random.randn(4)\n",
    "f(x2,y2)"
   ]
  },
  {
   "cell_type": "code",
   "execution_count": 22,
   "id": "c0107745",
   "metadata": {},
   "outputs": [
    {
     "data": {
      "text/plain": [
       "{ \u001b[34;1mlambda \u001b[39;22m; a\u001b[35m:f32[3,4]\u001b[39m b\u001b[35m:f32[4]\u001b[39m. \u001b[34;1mlet\n",
       "    \u001b[39;22mc\u001b[35m:f32[3,4]\u001b[39m = add a 1.0:f32[]\n",
       "    d\u001b[35m:f32[4]\u001b[39m = add b 1.0:f32[]\n",
       "    e\u001b[35m:f32[3]\u001b[39m = dot_general[\n",
       "      dimension_numbers=(([1], [0]), ([], []))\n",
       "      preferred_element_type=float32\n",
       "    ] c d\n",
       "  \u001b[34;1min \u001b[39;22m(e,) }"
      ]
     },
     "execution_count": 22,
     "metadata": {},
     "output_type": "execute_result"
    }
   ],
   "source": [
    "from jax import make_jaxpr\n",
    "\n",
    "def f(x, y):\n",
    "  return jnp.dot(x + 1, y + 1)\n",
    "\n",
    "make_jaxpr(f)(x, y)"
   ]
  },
  {
   "cell_type": "markdown",
   "id": "21b96385",
   "metadata": {},
   "source": [
    "## `jax.grad` & `jax.jacobian`"
   ]
  },
  {
   "cell_type": "code",
   "execution_count": 23,
   "id": "80402670",
   "metadata": {},
   "outputs": [
    {
     "name": "stdout",
     "output_type": "stream",
     "text": [
      "[0.25       0.19661197 0.10499357]\n"
     ]
    }
   ],
   "source": [
    "from jax import grad\n",
    "\n",
    "def sum_logistic(x):\n",
    "  return jnp.sum(1.0 / (1.0 + jnp.exp(-x)))\n",
    "\n",
    "x_small = jnp.arange(3.)\n",
    "derivative_fn = grad(sum_logistic)\n",
    "print(derivative_fn(x_small))"
   ]
  },
  {
   "cell_type": "code",
   "execution_count": 24,
   "id": "09b3d470",
   "metadata": {},
   "outputs": [
    {
     "name": "stdout",
     "output_type": "stream",
     "text": [
      "[0.24998187 0.1964569  0.10502338]\n"
     ]
    }
   ],
   "source": [
    "def first_finite_differences(f, x, eps=1E-3):\n",
    "  return jnp.array([(f(x + eps * v) - f(x - eps * v)) / (2 * eps)\n",
    "                   for v in jnp.eye(len(x))])\n",
    "\n",
    "print(first_finite_differences(sum_logistic, x_small))"
   ]
  },
  {
   "cell_type": "code",
   "execution_count": 25,
   "id": "7306d16e",
   "metadata": {},
   "outputs": [
    {
     "name": "stdout",
     "output_type": "stream",
     "text": [
      "[[1.        0.        0.       ]\n",
      " [0.        2.7182817 0.       ]\n",
      " [0.        0.        7.389056 ]]\n"
     ]
    }
   ],
   "source": [
    "from jax import jacobian\n",
    "print(jacobian(jnp.exp)(x_small))"
   ]
  },
  {
   "cell_type": "code",
   "execution_count": 28,
   "id": "f452f258",
   "metadata": {},
   "outputs": [
    {
     "data": {
      "text/plain": [
       "Array([0., 1., 2.], dtype=float32)"
      ]
     },
     "execution_count": 28,
     "metadata": {},
     "output_type": "execute_result"
    }
   ],
   "source": [
    "x_small"
   ]
  },
  {
   "cell_type": "markdown",
   "id": "86bc7497",
   "metadata": {},
   "source": [
    "## VMAP\n",
    "* automatic vectorisation\n",
    "* can be composed with jit to make effecient vecotrised code\n"
   ]
  },
  {
   "cell_type": "code",
   "execution_count": 29,
   "id": "aac7d818",
   "metadata": {},
   "outputs": [],
   "source": [
    "from jax import random\n",
    "\n",
    "key = random.key(1701)\n",
    "key1, key2 = random.split(key)\n",
    "mat = random.normal(key1, (150, 100))\n",
    "batched_x = random.normal(key2, (10, 100))\n",
    "\n",
    "def apply_matrix(x):\n",
    "  return jnp.dot(mat, x)"
   ]
  },
  {
   "cell_type": "code",
   "execution_count": 30,
   "id": "5464b893",
   "metadata": {},
   "outputs": [
    {
     "name": "stdout",
     "output_type": "stream",
     "text": [
      "Naively batched\n",
      "375 μs ± 86.1 μs per loop (mean ± std. dev. of 7 runs, 1,000 loops each)\n"
     ]
    }
   ],
   "source": [
    "def naively_batched_apply_matrix(v_batched):\n",
    "  return jnp.stack([apply_matrix(v) for v in v_batched])\n",
    "\n",
    "print('Naively batched')\n",
    "%timeit naively_batched_apply_matrix(batched_x).block_until_ready()"
   ]
  },
  {
   "cell_type": "code",
   "execution_count": 41,
   "id": "cdcc2939",
   "metadata": {},
   "outputs": [
    {
     "name": "stdout",
     "output_type": "stream",
     "text": [
      "Manually batched\n",
      "27.3 μs ± 2.22 μs per loop (mean ± std. dev. of 7 runs, 10,000 loops each)\n"
     ]
    }
   ],
   "source": [
    "import numpy as np\n",
    "\n",
    "@jit\n",
    "def batched_apply_matrix(batched_x):\n",
    "  return jnp.dot(batched_x, mat.T)\n",
    "\n",
    "np.testing.assert_allclose(naively_batched_apply_matrix(batched_x),\n",
    "                           batched_apply_matrix(batched_x), atol=1E-4, rtol=1E-4)\n",
    "print('Manually batched')\n",
    "%timeit batched_apply_matrix(batched_x).block_until_ready()"
   ]
  },
  {
   "cell_type": "code",
   "execution_count": 43,
   "id": "3f3b3b25",
   "metadata": {},
   "outputs": [
    {
     "name": "stdout",
     "output_type": "stream",
     "text": [
      "Auto-vectorized with vmap\n",
      "33.1 μs ± 267 ns per loop (mean ± std. dev. of 7 runs, 10,000 loops each)\n"
     ]
    }
   ],
   "source": [
    "from jax import vmap\n",
    "\n",
    "@jit\n",
    "def vmap_batched_apply_matrix(batched_x):\n",
    "  return vmap(apply_matrix)(batched_x)\n",
    "\n",
    "np.testing.assert_allclose(naively_batched_apply_matrix(batched_x),\n",
    "                           vmap_batched_apply_matrix(batched_x), atol=1E-4, rtol=1E-4)\n",
    "print('Auto-vectorized with vmap')\n",
    "%timeit vmap_batched_apply_matrix(batched_x).block_until_ready()"
   ]
  },
  {
   "cell_type": "markdown",
   "id": "221e7862",
   "metadata": {},
   "source": [
    "## pytree"
   ]
  },
  {
   "cell_type": "code",
   "execution_count": 44,
   "id": "522bdfad",
   "metadata": {},
   "outputs": [
    {
     "name": "stdout",
     "output_type": "stream",
     "text": [
      "[1, 'a', <object object at 0x11d988be0>]      has 3 leaves: [1, 'a', <object object at 0x11d988be0>]\n",
      "(1, (2, 3), ())                               has 3 leaves: [1, 2, 3]\n",
      "[1, {'k1': 2, 'k2': (3, 4)}, 5]               has 5 leaves: [1, 2, 3, 4, 5]\n",
      "{'a': 2, 'b': (2, 3)}                         has 3 leaves: [2, 2, 3]\n",
      "Array([1, 2, 3], dtype=int32)                 has 1 leaves: [Array([1, 2, 3], dtype=int32)]\n"
     ]
    }
   ],
   "source": [
    "import jax\n",
    "import jax.numpy as jnp\n",
    "\n",
    "example_trees = [\n",
    "    [1, 'a', object()],\n",
    "    (1, (2, 3), ()),\n",
    "    [1, {'k1': 2, 'k2': (3, 4)}, 5],\n",
    "    {'a': 2, 'b': (2, 3)},\n",
    "    jnp.array([1, 2, 3]),\n",
    "]\n",
    "\n",
    "# Print how many leaves the pytrees have.\n",
    "for pytree in example_trees:\n",
    "  # This `jax.tree.leaves()` method extracts the flattened leaves from the pytrees.\n",
    "  leaves = jax.tree.leaves(pytree)\n",
    "  print(f\"{repr(pytree):<45} has {len(leaves)} leaves: {leaves}\")"
   ]
  },
  {
   "cell_type": "code",
   "execution_count": 45,
   "id": "9601ecdb",
   "metadata": {},
   "outputs": [
    {
     "data": {
      "text/plain": [
       "[[2, 4, 6], [2, 4], [2, 4, 6, 8]]"
      ]
     },
     "execution_count": 45,
     "metadata": {},
     "output_type": "execute_result"
    }
   ],
   "source": [
    "list_of_lists = [\n",
    "    [1, 2, 3],\n",
    "    [1, 2],\n",
    "    [1, 2, 3, 4]\n",
    "]\n",
    "\n",
    "jax.tree.map(lambda x: x*2, list_of_lists)"
   ]
  },
  {
   "cell_type": "code",
   "execution_count": 46,
   "id": "49f63f8a",
   "metadata": {},
   "outputs": [],
   "source": [
    "import numpy as np\n",
    "\n",
    "def init_mlp_params(layer_widths):\n",
    "  params = []\n",
    "  for n_in, n_out in zip(layer_widths[:-1], layer_widths[1:]):\n",
    "    params.append(\n",
    "        dict(weights=np.random.normal(size=(n_in, n_out)) * np.sqrt(2/n_in),\n",
    "             biases=np.ones(shape=(n_out,))\n",
    "            )\n",
    "    )\n",
    "  return params\n",
    "\n",
    "params = init_mlp_params([1, 128, 128, 1])"
   ]
  },
  {
   "cell_type": "code",
   "execution_count": 48,
   "id": "3d914ad6",
   "metadata": {},
   "outputs": [
    {
     "data": {
      "text/plain": [
       "[{'biases': (128,), 'weights': (1, 128)},\n",
       " {'biases': (128,), 'weights': (128, 128)},\n",
       " {'biases': (1,), 'weights': (128, 1)}]"
      ]
     },
     "execution_count": 48,
     "metadata": {},
     "output_type": "execute_result"
    }
   ],
   "source": [
    "# check the shapes of the parameters\n",
    "jax.tree.map(lambda x: x.shape, params)"
   ]
  },
  {
   "cell_type": "code",
   "execution_count": 51,
   "id": "ca683548",
   "metadata": {},
   "outputs": [],
   "source": [
    "# Define the forward pass.\n",
    "def forward(params, x):\n",
    "  *hidden, last = params\n",
    "  for layer in hidden:\n",
    "    x = jax.nn.relu(x @ layer['weights'] + layer['biases'])\n",
    "  return x @ last['weights'] + last['biases']\n",
    "\n",
    "# Define the loss function.\n",
    "def loss_fn(params, x, y):\n",
    "  return jnp.mean((forward(params, x) - y) ** 2)\n",
    "\n",
    "# Set the learning rate.\n",
    "LEARNING_RATE = 0.0001\n",
    "\n",
    "# Using the stochastic gradient descent, define the parameter update function.\n",
    "# Apply `@jax.jit` for JIT compilation (speed).\n",
    "@jax.jit\n",
    "def update(params, x, y):\n",
    "  # Calculate the gradients with `jax.grad`.\n",
    "  grads = jax.grad(loss_fn)(params, x, y)\n",
    "  # Note that `grads` is a pytree with the same structure as `params`.\n",
    "  # `jax.grad` is one of many JAX functions that has\n",
    "  # built-in support for pytrees.\n",
    "  # This is useful - you can apply the SGD update using JAX pytree utilities.\n",
    "  return jax.tree.map(\n",
    "      lambda p, g: p - LEARNING_RATE * g, params, grads\n",
    "  )"
   ]
  },
  {
   "cell_type": "markdown",
   "id": "42eba112",
   "metadata": {},
   "source": [
    "control flow understanding"
   ]
  },
  {
   "cell_type": "code",
   "execution_count": 54,
   "id": "0e4f1883",
   "metadata": {},
   "outputs": [
    {
     "name": "stdout",
     "output_type": "stream",
     "text": [
      "12.0\n"
     ]
    }
   ],
   "source": [
    "@jit\n",
    "def f_fail(x):\n",
    "  if x < 3:\n",
    "    return 3. * x ** 2\n",
    "  else:\n",
    "    return -4 * x\n",
    "\n",
    "def f_success(x):\n",
    "  if x < 3:\n",
    "    return 3. * x ** 2\n",
    "  else:\n",
    "    return -4 * x\n",
    "\n",
    "f_success = jit(f_success, static_argnames='x')\n",
    "\n",
    "print(f_success(2.))"
   ]
  },
  {
   "cell_type": "code",
   "execution_count": 68,
   "id": "4bd62436",
   "metadata": {},
   "outputs": [
    {
     "name": "stdout",
     "output_type": "stream",
     "text": [
      "12.0\n",
      "-4.0\n"
     ]
    }
   ],
   "source": [
    "def f(x):\n",
    "  if x < 3:\n",
    "    return 3. * x ** 2\n",
    "  else:\n",
    "    return -4 * x\n",
    "\n",
    "print(grad(f)(2.))  # ok!\n",
    "print(grad(f)(4.))  # ok!"
   ]
  },
  {
   "cell_type": "code",
   "execution_count": null,
   "id": "a2495cc2",
   "metadata": {},
   "outputs": [],
   "source": []
  },
  {
   "cell_type": "code",
   "execution_count": 63,
   "id": "de9e902b",
   "metadata": {},
   "outputs": [],
   "source": [
    "from matplotlib import pyplot as plt"
   ]
  },
  {
   "cell_type": "code",
   "execution_count": 65,
   "id": "d53d65b7",
   "metadata": {},
   "outputs": [],
   "source": [
    "x=jnp.arange(0, 10, 0.1)"
   ]
  },
  {
   "cell_type": "code",
   "execution_count": null,
   "id": "68ceaad2",
   "metadata": {},
   "outputs": [
    {
     "name": "stdout",
     "output_type": "stream",
     "text": [
      "[  3.  12. -12. -16. -20.]\n"
     ]
    }
   ],
   "source": [
    "import jax\n",
    "import jax.numpy as jnp\n",
    "from jax import vmap\n",
    "\n",
    "def f_jax_cond(x):\n",
    "  # Use jax.lax.cond for differentiable conditional logic\n",
    "  return jax.lax.cond(x < 3,   # Predicate (condition)\n",
    "                      lambda val: 3. * val ** 2, # True branch function\n",
    "                      lambda val: -4. * val,     # False branch function\n",
    "                      x) # Operand(s) passed to both branches\n",
    "\n",
    "# Test with vmap\n",
    "batched_x = jnp.array([1., 2., 3., 4., 5.])\n",
    "result = vmap(f_jax_cond)(batched_x)\n",
    "\n",
    "print(result)\n",
    "# Expected output: [ 3.  12. -12. -16. -20.]\n",
    "# (3.*1**2=3, 3.*2**2=12, -4.*3=-12, -4.*4=-16, -4.*5=-20)"
   ]
  },
  {
   "cell_type": "code",
   "execution_count": 75,
   "id": "0139e6df",
   "metadata": {},
   "outputs": [
    {
     "data": {
      "text/plain": [
       "[<matplotlib.lines.Line2D at 0x12daadd30>]"
      ]
     },
     "execution_count": 75,
     "metadata": {},
     "output_type": "execute_result"
    },
    {
     "data": {
      "image/png": "[encoded data removed]",
      "text/plain": [
       "<Figure size 640x480 with 1 Axes>"
      ]
     },
     "metadata": {},
     "output_type": "display_data"
    }
   ],
   "source": [
    "plt.plot(x,vmap(f_jax_cond)(x))\n",
    "plt.plot(x,vmap(grad(f_jax_cond))(x))"
   ]
  },
  {
   "cell_type": "code",
   "execution_count": 79,
   "id": "a7791cb0",
   "metadata": {},
   "outputs": [
    {
     "ename": "SyntaxError",
     "evalue": "incomplete input (2779829003.py, line 2)",
     "output_type": "error",
     "traceback": [
      "  \u001b[36mCell\u001b[39m\u001b[36m \u001b[39m\u001b[32mIn[79]\u001b[39m\u001b[32m, line 2\u001b[39m\n\u001b[31m    \u001b[39m\u001b[31mvmap(grad(f_jax_cond))(batched_x),\u001b[39m\n                                      ^\n\u001b[31mSyntaxError\u001b[39m\u001b[31m:\u001b[39m incomplete input\n"
     ]
    }
   ],
   "source": [
    "np.testing.assert_allclose(\n",
    "    vmap(grad(f_jax_cond))(batched_x),"
   ]
  },
  {
   "cell_type": "markdown",
   "id": "18092965",
   "metadata": {},
   "source": []
  }
 ],
 "metadata": {
  "kernelspec": {
   "display_name": "bngmetric",
   "language": "python",
   "name": "python3"
  },
  "language_info": {
   "codemirror_mode": {
    "name": "ipython",
    "version": 3
   },
   "file_extension": ".py",
   "mimetype": "text/x-python",
   "name": "python",
   "nbconvert_exporter": "python",
   "pygments_lexer": "ipython3",
   "version": "3.12.3"
  }
 },
 "nbformat": 4,
 "nbformat_minor": 5
}

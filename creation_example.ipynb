{
 "cells": [
  {
   "cell_type": "markdown",
   "id": "0dbbc4c4",
   "metadata": {},
   "source": [
    "# Creation Example\n",
    "In this notebook, we demonstrate how to calculate the BNG units for an area being created"
   ]
  },
  {
   "cell_type": "code",
   "execution_count": 1,
   "id": "59739ed5",
   "metadata": {},
   "outputs": [
    {
     "name": "stderr",
     "output_type": "stream",
     "text": [
      "/Users/peterhurley/bngmetric/.venv/lib/python3.12/site-packages/tqdm/auto.py:21: TqdmWarning: IProgress not found. Please update jupyter and ipywidgets. See https://ipywidgets.readthedocs.io/en/stable/user_install.html\n",
      "  from .autonotebook import tqdm as notebook_tqdm\n",
      "/Users/peterhurley/bngmetric/src/bngmetric/constants.py:171: SettingWithCopyWarning: \n",
      "A value is trying to be set on a copy of a slice from a DataFrame\n",
      "\n",
      "See the caveats in the documentation: https://pandas.pydata.org/pandas-docs/stable/user_guide/indexing.html#returning-a-view-versus-a-copy\n",
      "  final_enhance.rename(columns={'Start condition': 'Habitat'}, inplace=True)\n",
      "/Users/peterhurley/bngmetric/src/bngmetric/constants.py:186: PerformanceWarning: indexing past lexsort depth may impact performance.\n",
      "  for tc in final_enhance.loc[habitat, (start_condition,)].index:\n",
      "/Users/peterhurley/bngmetric/src/bngmetric/constants.py:209: SettingWithCopyWarning: \n",
      "A value is trying to be set on a copy of a slice from a DataFrame\n",
      "\n",
      "See the caveats in the documentation: https://pandas.pydata.org/pandas-docs/stable/user_guide/indexing.html#returning-a-view-versus-a-copy\n",
      "  diff_distinct_enhance.rename(columns={'Start condition': 'Habitat'}, inplace=True)\n"
     ]
    }
   ],
   "source": [
    "import jax\n",
    "import jax.numpy as jnp\n",
    "import pandas as pd\n",
    "import numpyro\n",
    "import numpyro.distributions as dist\n",
    "from numpyro.infer import MCMC, NUTS\n",
    "from numpyro.handlers import seed, trace, condition, plate\n",
    "import matplotlib.pyplot as plt\n",
    "import seaborn as sns # For nicer plots\n",
    "\n",
    "# Import your JAX BNG calculation functions and constants\n",
    "# Assuming your bngmetric package is installed or its path is set up\n",
    "from bngmetric.core_calculations import calculate_total_bng_from_jax_arrays, calculate_batched_baseline_bng_units,calculate_baseline_bng_unit\n",
    "from bngmetric.constants import (\n",
    "    HABITAT_TYPE_TO_ID, CONDITION_CATEGORY_TO_ID,\n",
    "    ID_TO_DISTINCTIVENESS_VALUE, CONDITION_MULTIPLIERS_MATRIX,\n",
    "    \n",
    "    \n",
    ")\n",
    "\n",
    "# Configure JAX for CPU for consistent behavior if not on GPU\n",
    "jax.config.update('jax_platform_name', 'cpu')\n",
    "jax.config.update('jax_enable_x64', True) # Enable 64-bit precision for better numerical stability"
   ]
  },
  {
   "cell_type": "markdown",
   "id": "0f1bb64b",
   "metadata": {},
   "source": [
    "## Generate a toy example\n",
    "Now lets create an example input from the metric, i.e. some habitats, conditions, area and strategic significance"
   ]
  },
  {
   "cell_type": "code",
   "execution_count": 2,
   "id": "faab4aed",
   "metadata": {},
   "outputs": [
    {
     "name": "stdout",
     "output_type": "stream",
     "text": [
      "Classified Habitat IDs (IDs): [13 16 89]\n",
      "Initial Classified Habitats (IDs): [13 16 89]\n",
      "Initial Areas: [ 5. 20.  8.]\n"
     ]
    }
   ],
   "source": [
    "# --- Example Input Data (similar to your DataFrame) ---\n",
    "# Ensure these habitat names exist in your HABITAT_TYPE_TO_ID mapping\n",
    "example_df = pd.DataFrame({\n",
    "    'Habitat': ['Grassland - Lowland calcareous grassland', 'Grassland - Modified grassland', 'Woodland and forest - Lowland mixed deciduous woodland'],\n",
    "    'Condition': ['Good', 'Moderate', 'Good'],\n",
    "    'Area': [5.0, 20.0, 8.0],\n",
    "    'Strategic_Significance': [1.0, 1.0, 1.15],\n",
    "\n",
    "})\n",
    "\n",
    "\n",
    "# Get reverse mapping for clear output\n",
    "ID_TO_HABITAT_TYPE = {v: k for k, v in HABITAT_TYPE_TO_ID.items()}\n",
    "\n",
    "# Convert DataFrame columns to JAX arrays using your constants mapping\n",
    "classified_habitat_ids_input = jnp.array([\n",
    "    HABITAT_TYPE_TO_ID[ht] for ht in example_df['Habitat'].values\n",
    "])\n",
    "print(\"Classified Habitat IDs (IDs):\", classified_habitat_ids_input)\n",
    "condition_ids_input = jnp.array([\n",
    "    CONDITION_CATEGORY_TO_ID[c] for c in example_df['Condition'].values\n",
    "])\n",
    "areas_input = jnp.array(example_df['Area'].values, dtype=jnp.float64) # Use float64 for better precision\n",
    "strategic_multipliers_input = jnp.array(example_df['Strategic_Significance'].values, dtype=jnp.float64)\n",
    "\n",
    "# Print initial classification for reference\n",
    "print(\"Initial Classified Habitats (IDs):\", classified_habitat_ids_input)\n",
    "print(\"Initial Areas:\", areas_input)"
   ]
  },
  {
   "cell_type": "code",
   "execution_count": 3,
   "id": "98144571",
   "metadata": {},
   "outputs": [],
   "source": [
    "from bngmetric.creation import calculate_batched_creation_bng_units,calculate_creation_bng_from_dataframe,calculate_creation_bng_unit\n"
   ]
  },
  {
   "cell_type": "code",
   "execution_count": 13,
   "id": "18602f17",
   "metadata": {},
   "outputs": [],
   "source": [
    "time_to_target_years=jnp.array([30,30,30],dtype=jnp.int16)\n",
    "bng=calculate_batched_creation_bng_units(classified_habitat_ids_input, condition_ids_input, areas_input, strategic_multipliers_input)"
   ]
  },
  {
   "cell_type": "code",
   "execution_count": 15,
   "id": "e3bed6b7",
   "metadata": {},
   "outputs": [
    {
     "data": {
      "text/plain": [
       "Array(101.40035987, dtype=float64)"
      ]
     },
     "execution_count": 15,
     "metadata": {},
     "output_type": "execute_result"
    }
   ],
   "source": [
    "bng.sum()"
   ]
  },
  {
   "cell_type": "code",
   "execution_count": 12,
   "id": "5399d4e2",
   "metadata": {},
   "outputs": [
    {
     "data": {
      "text/plain": [
       "Array(17.4873603, dtype=float64)"
      ]
     },
     "execution_count": 12,
     "metadata": {},
     "output_type": "execute_result"
    }
   ],
   "source": [
    "calculate_creation_bng_unit(classified_habitat_ids_input[2], condition_ids_input[2], areas_input[2], strategic_multipliers_input[2])"
   ]
  },
  {
   "cell_type": "code",
   "execution_count": 7,
   "id": "0a43a59a",
   "metadata": {},
   "outputs": [],
   "source": [
    "from bngmetric.core_calculations import get_distinctiveness_value, get_condition_multiplier\n",
    "from bngmetric.creation import get_temporal_multiplier, get_difficulty_multiplier\n",
    "\n",
    "distinctiveness = get_distinctiveness_value(classified_habitat_ids_input[0])\n",
    "condition_m = get_condition_multiplier(classified_habitat_ids_input[0], condition_ids_input[0])\n",
    "temporal_m = get_temporal_multiplier(classified_habitat_ids_input[0],condition_ids_input[0])\n",
    "difficulty_m = get_difficulty_multiplier(classified_habitat_ids_input[0])"
   ]
  },
  {
   "cell_type": "code",
   "execution_count": 9,
   "id": "83b81b9c",
   "metadata": {},
   "outputs": [
    {
     "data": {
      "text/plain": [
       "(Array(0.49, dtype=float32),\n",
       " Array(3., dtype=float32),\n",
       " Array(0.33, dtype=float32),\n",
       " Array(6., dtype=float32))"
      ]
     },
     "execution_count": 9,
     "metadata": {},
     "output_type": "execute_result"
    }
   ],
   "source": [
    "temporal_m,condition_m,difficulty_m,distinctiveness"
   ]
  },
  {
   "cell_type": "code",
   "execution_count": 10,
   "id": "33b54ecb",
   "metadata": {},
   "outputs": [
    {
     "data": {
      "text/plain": [
       "101.40035986854076"
      ]
     },
     "execution_count": 10,
     "metadata": {},
     "output_type": "execute_result"
    }
   ],
   "source": [
    "calculate_creation_bng_from_dataframe(example_df)"
   ]
  },
  {
   "cell_type": "code",
   "execution_count": null,
   "id": "355e7322",
   "metadata": {},
   "outputs": [],
   "source": []
  }
 ],
 "metadata": {
  "kernelspec": {
   "display_name": "bngmetric",
   "language": "python",
   "name": "python3"
  },
  "language_info": {
   "codemirror_mode": {
    "name": "ipython",
    "version": 3
   },
   "file_extension": ".py",
   "mimetype": "text/x-python",
   "name": "python",
   "nbconvert_exporter": "python",
   "pygments_lexer": "ipython3",
   "version": "3.12.3"
  }
 },
 "nbformat": 4,
 "nbformat_minor": 5
}
